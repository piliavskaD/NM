{
  "nbformat": 4,
  "nbformat_minor": 0,
  "metadata": {
    "colab": {
      "provenance": [],
      "include_colab_link": true
    },
    "kernelspec": {
      "name": "python3",
      "display_name": "Python 3"
    },
    "language_info": {
      "name": "python"
    }
  },
  "cells": [
    {
      "cell_type": "markdown",
      "metadata": {
        "id": "view-in-github",
        "colab_type": "text"
      },
      "source": [
        "<a href=\"https://colab.research.google.com/github/piliavskaD/NM/blob/main/%D0%9B%D0%A03_%D0%9F%D1%96%D0%BB%D1%8F%D0%B2%D1%81%D1%8C%D0%BA%D0%B0_9_%D0%B2.ipynb\" target=\"_parent\"><img src=\"https://colab.research.google.com/assets/colab-badge.svg\" alt=\"Open In Colab\"/></a>"
      ]
    },
    {
      "cell_type": "markdown",
      "source": [
        "Пілявська Дар'я. Варіант 9"
      ],
      "metadata": {
        "id": "HlvFbYQzhdIu"
      }
    },
    {
      "cell_type": "markdown",
      "source": [
        "1. Метод ділення навпіл."
      ],
      "metadata": {
        "id": "VgrW9zRY0dVt"
      }
    },
    {
      "cell_type": "code",
      "execution_count": null,
      "metadata": {
        "colab": {
          "base_uri": "https://localhost:8080/"
        },
        "id": "iOTNXySVyeHy",
        "outputId": "157e717e-e4f5-4255-9279-a86d2072a7f3"
      },
      "outputs": [
        {
          "output_type": "stream",
          "name": "stdout",
          "text": [
            "Результати обчислень\n",
            "\n",
            "          a      F(a)         c      F(c)       b      F(b)\n",
            "0 -3.000000  0.977954 -2.000000  1.135204 -1.0000 -0.454649\n",
            "1 -2.000000  1.135204 -1.500000 -0.123480 -1.0000 -0.454649\n",
            "2 -2.000000  1.135204 -1.750000  0.405593 -1.5000 -0.123480\n",
            "3 -1.750000  0.405593 -1.625000  0.109040 -1.5000 -0.123480\n",
            "4 -1.625000  0.109040 -1.562500 -0.015587 -1.5000 -0.123480\n",
            "5 -1.625000  0.109040 -1.593750  0.044659 -1.5625 -0.015587\n",
            "6 -1.593750  0.044659 -1.578125  0.014015 -1.5625 -0.015587\n",
            "7 -1.578125  0.014015 -1.570312 -0.000917 -1.5625 -0.015587\n",
            "\n",
            "В точці с =  -1.5703125 , f(c) =  -0.0009171268569415665\n"
          ]
        }
      ],
      "source": [
        "import numpy as np\n",
        "import pandas as pd\n",
        "\n",
        "# Визначаємо функцію\n",
        "def f (x):\n",
        "    y = np.cos(x)*np.sin(x)*(x**2+x+1)\n",
        "    return y\n",
        "# Визначаємо границі відрізку\n",
        "a, b = -3, -1\n",
        "# Визначаємо точність розв'язку\n",
        "eps = 0.001\n",
        "# Поділяємо відрізок навпіл\n",
        "c = (a+b)/2\n",
        "# Зберігаємо результати обчислень\n",
        "data_A = [a]\n",
        "data_B = [b]\n",
        "data_C = [c]\n",
        "data_F_A = [f(a)]\n",
        "data_F_B = [f(b)]\n",
        "data_F_C = [f(c)]\n",
        "# Перевіряємо досягнення точності\n",
        "while np.abs(f(c)) > eps:\n",
        "    # Звужуємо відрізок\n",
        "    if np.sign(f(c)) == np.sign(f(a)):\n",
        "        a = c\n",
        "    else:\n",
        "        b = c\n",
        "    # Поділяємо відрізок навпіл\n",
        "    c = (a+b)/2\n",
        "    # Зберігаємо результати обчислень\n",
        "    data_A.append(a)\n",
        "    data_B.append(b)\n",
        "    data_C.append(c)\n",
        "    data_F_A.append(f(a))\n",
        "    data_F_B.append(f(b))\n",
        "    data_F_C.append(f(c))\n",
        "# Відображаємо результати обчислень\n",
        "print('Результати обчислень')\n",
        "print()\n",
        "data = pd.DataFrame({'a': data_A,\n",
        "                     'F(a)': data_F_A,\n",
        "                     'c': data_C,\n",
        "                     'F(c)': data_F_C,\n",
        "                     'b': data_B,\n",
        "                     'F(b)': data_F_B})\n",
        "print(data)\n",
        "# Відображаємо наближений корінь рівняння\n",
        "print()\n",
        "print('В точці с = ', c, ', f(c) = ', f(c))"
      ]
    },
    {
      "cell_type": "markdown",
      "source": [
        "2. Метод ділення навпіл"
      ],
      "metadata": {
        "id": "5hYa7ucn0PEN"
      }
    },
    {
      "cell_type": "code",
      "source": [
        "import numpy as np\n",
        "import scipy.optimize as sp\n",
        "\n",
        "def f(x):\n",
        "    y = np.cos(x)*np.sin(x)*(x**2+x+1)\n",
        "    return y\n",
        "\n",
        "a, b = -3, -1\n",
        "eps = 1.e-3\n",
        "\n",
        "x = sp.bisect(f, a, b,(),eps) #функція для метода\n",
        "\n",
        "print('The approximate solution x is:', x)\n",
        "print('And the value f(x) is:', f(x))"
      ],
      "metadata": {
        "colab": {
          "base_uri": "https://localhost:8080/"
        },
        "id": "ML3KEw5q0H1e",
        "outputId": "bdc8a603-0692-4ccd-ca90-e1b0e6ad9332"
      },
      "execution_count": null,
      "outputs": [
        {
          "output_type": "stream",
          "name": "stdout",
          "text": [
            "The approximate solution x is: -1.5712890625\n",
            "And the value f(x) is: 0.0009350448126615916\n"
          ]
        }
      ]
    },
    {
      "cell_type": "markdown",
      "source": [
        "3. Метод хорд"
      ],
      "metadata": {
        "id": "sYf0IvR41ufd"
      }
    },
    {
      "cell_type": "code",
      "source": [
        "import numpy as np\n",
        "import pandas as pd\n",
        "# Визначаємо функцію\n",
        "def f(x):\n",
        "    y = np.cos(x)*np.sin(x)*(x**2+x+1)\n",
        "    return y\n",
        "# Визначаємо межі відрізку\n",
        "a, b = -3, -1\n",
        "# Визначаємо точність розв'язку\n",
        "eps = 0.001\n",
        "# Точка, де хорда перетинає вісь 0x\n",
        "c = (f(a)*b-a*f(b))/(f(a)-f(b))\n",
        "\n",
        "# Зберігаємо результати обчислень\n",
        "data_A = [a]\n",
        "data_B = [b]\n",
        "data_C = [c]\n",
        "data_F_A = [f(a)]\n",
        "data_F_B = [f(b)]\n",
        "data_F_C = [f(c)]\n",
        "# Перевіряємо досягнення точності\n",
        "while np.abs(f(c)) > eps:\n",
        "    # Звужуємо відрізок\n",
        "    if np.sign(f(c)) == np.sign(f(a)):\n",
        "        a = c\n",
        "    else:\n",
        "        b = c\n",
        "    # Точка, де хорда перетинає вісь 0x\n",
        "    c = (f(a)*b-a*f(b))/(f(a)-f(b))\n",
        "    # Зберігаємо результати обчислень\n",
        "    data_A.append(a)\n",
        "    data_B.append(b)\n",
        "    data_C.append(c)\n",
        "    data_F_A.append(f(a))\n",
        "    data_F_B.append(f(b))\n",
        "    data_F_C.append(f(c))\n",
        "# Відображаємо результати обчислень\n",
        "print('Результати обчислень')\n",
        "print()\n",
        "data = pd.DataFrame({'a': data_A, 'F(a)': data_F_A,\n",
        "                     'c': data_C, 'F(c)': data_F_C,\n",
        "                     'b': data_B, 'F(b)': data_F_B})\n",
        "print(data)\n",
        "# Відображаємо наближений корінь рівняння\n",
        "print()\n",
        "print('В точці с = ', c, ', f(c) = ', f(c))"
      ],
      "metadata": {
        "colab": {
          "base_uri": "https://localhost:8080/"
        },
        "id": "3p6i5xHK1y3l",
        "outputId": "59afade8-804f-4f8a-ca1c-23e822802055"
      },
      "execution_count": null,
      "outputs": [
        {
          "output_type": "stream",
          "name": "stdout",
          "text": [
            "Результати обчислень\n",
            "\n",
            "          a      F(a)         c      F(c)         b      F(b)\n",
            "0 -3.000000  0.977954 -1.634717  0.129889 -1.000000 -0.454649\n",
            "1 -1.634717  0.129889 -1.493678 -0.133455 -1.000000 -0.454649\n",
            "2 -1.634717  0.129889 -1.565152 -0.010636 -1.493678 -0.133455\n",
            "3 -1.634717  0.129889 -1.570418 -0.000718 -1.565152 -0.010636\n",
            "\n",
            "В точці с =  -1.5704175737258015 , f(c) =  -0.0007180376446871882\n"
          ]
        }
      ]
    },
    {
      "cell_type": "markdown",
      "source": [
        "4. Метод Ньютона (дотичних)"
      ],
      "metadata": {
        "id": "40blPBSK2Cdm"
      }
    },
    {
      "cell_type": "code",
      "source": [
        "import numpy as np\n",
        "import pandas as pd\n",
        "# Визначаємо функцію\n",
        "def f(x):\n",
        "    y = np.cos(x)*np.sin(x)*(x**2+x+1)\n",
        "    return y\n",
        "# Визначаємо першу похідну\n",
        "def df(x):\n",
        "    y1 = -(x**2+x+1)*(np.sin(x))**2\n",
        "    y2 = (x**2+x+1)*(np.cos(x))**2\n",
        "    y3 = (2*x+1)*np.sin(x)*np.cos(x)\n",
        "    y = y1+y2+y3\n",
        "    return y\n",
        "# Визначаємо початкову точку\n",
        "c = -1.4\n",
        "# Визначаємо точність розв'язку\n",
        "eps = 0.001\n",
        "# Зберігаємо результати обчислень\n",
        "data_C = [c]\n",
        "data_F_C = [f(c)]\n",
        "# Перевіряємо досягнення точності\n",
        "while abs(f(c)) > eps:\n",
        "    # Точка, де дотична перетинає вісь 0x\n",
        "    c -= f(c)/df(c)\n",
        "    # Зберігаємо результати обчислень\n",
        "    data_C.append(c)\n",
        "    data_F_C.append(f(c))\n",
        "# Відображаємо результати обчислень\n",
        "print('Результати обчислень')\n",
        "print()\n",
        "data = pd.DataFrame({'c': data_C, 'F(c)': data_F_C})\n",
        "print(data)\n",
        "# Відображаємо наближений корінь рівняння\n",
        "print()\n",
        "print('В точці с = ', c, ', f(c) = ', f(c))"
      ],
      "metadata": {
        "colab": {
          "base_uri": "https://localhost:8080/"
        },
        "id": "WeGQjbjW2HDz",
        "outputId": "75c34dc7-93cf-4f2f-b291-3690af301f88"
      },
      "execution_count": null,
      "outputs": [
        {
          "output_type": "stream",
          "name": "stdout",
          "text": [
            "Результати обчислень\n",
            "\n",
            "          c      F(c)\n",
            "0 -1.400000 -0.261291\n",
            "1 -1.623636  0.106144\n",
            "2 -1.573564  0.005266\n",
            "3 -1.570805  0.000016\n",
            "\n",
            "В точці с =  -1.5708049170979717 , f(c) =  1.6292567852764437e-05\n"
          ]
        }
      ]
    },
    {
      "cell_type": "markdown",
      "source": [
        "5. Метод Ньютона (дотичних)"
      ],
      "metadata": {
        "id": "qjI38bTp0xCo"
      }
    },
    {
      "cell_type": "code",
      "source": [
        "import numpy as np\n",
        "import scipy.optimize as sp\n",
        "\n",
        "def f(x):\n",
        "    y = np.cos(x)*np.sin(x)*(x**2+x+1)\n",
        "    return y\n",
        "\n",
        "def df(x):# Обчислення похідної\n",
        "    y1 = -(x**2+x+1)*(np.sin(x))**2\n",
        "    y2 = (x**2+x+1)*(np.cos(x))**2\n",
        "    y3 = (2*x+1)*np.sin(x)*np.cos(x)\n",
        "    y = y1+y2+y3\n",
        "    return y\n",
        "\n",
        "x0 = -1.4\n",
        "x1 = 1.4\n",
        "\n",
        "x_0 = sp.newton(f, x0, df, tol=1.e-3, maxiter=50)\n",
        "x_1 = sp.newton(f, x1, df, tol=1.e-3, maxiter=50)\n",
        "\n",
        "print('The approximate solution x is:', x_0)\n",
        "print('And the value f(x_0) is:', f(x_0))\n",
        "\n",
        "print('The approximate solution x is:', x_1)\n",
        "print('And the value f(x_0) is:', f(x_1))"
      ],
      "metadata": {
        "colab": {
          "base_uri": "https://localhost:8080/"
        },
        "id": "AonZxq_H0m6-",
        "outputId": "adafc469-5ab5-4d06-ad54-ca4ae493f1fa"
      },
      "execution_count": null,
      "outputs": [
        {
          "output_type": "stream",
          "name": "stdout",
          "text": [
            "The approximate solution x is: -1.5707963268782201\n",
            "And the value f(x_0) is: 1.5803176499052036e-10\n",
            "The approximate solution x is: 1.5707963267958693\n",
            "And the value f(x_0) is: -4.9007361645997675e-12\n"
          ]
        }
      ]
    },
    {
      "cell_type": "markdown",
      "source": [
        " # Знаходження коренів рівняння за допомогою бібліотеки SymPy"
      ],
      "metadata": {
        "id": "pvK9N9TH1QD-"
      }
    },
    {
      "cell_type": "code",
      "source": [
        "import sympy as sym\n",
        "\n",
        "x = sym.Symbol('x')\n",
        "\n",
        "y = sym.cos(x)*sym.sin(x)*(x**2+x+1)\n",
        "\n",
        "s = sym.solve(y)\n",
        "\n",
        "print(s)"
      ],
      "metadata": {
        "colab": {
          "base_uri": "https://localhost:8080/"
        },
        "id": "PuAp1WCr08qt",
        "outputId": "36c578b1-b0b4-40d5-8142-44bf252e747d"
      },
      "execution_count": null,
      "outputs": [
        {
          "output_type": "stream",
          "name": "stdout",
          "text": [
            "[0, pi/2, pi, 3*pi/2, -1/2 - sqrt(3)*I/2, -1/2 + sqrt(3)*I/2]\n"
          ]
        }
      ]
    },
    {
      "cell_type": "code",
      "source": [
        "import sympy as sym\n",
        "\n",
        "x, a, b, c = sym.symbols('x, a, b, c')\n",
        "\n",
        "y = a * x**2 + b * x + c\n",
        "\n",
        "s = sym.solve(y, x)\n",
        "\n",
        "print(s)"
      ],
      "metadata": {
        "colab": {
          "base_uri": "https://localhost:8080/"
        },
        "id": "Y0d-uHtp1c7r",
        "outputId": "42a681c2-3c44-4db2-dbe7-7c1615e9bbe9"
      },
      "execution_count": null,
      "outputs": [
        {
          "output_type": "stream",
          "name": "stdout",
          "text": [
            "[(-b - sqrt(-4*a*c + b**2))/(2*a), (-b + sqrt(-4*a*c + b**2))/(2*a)]\n"
          ]
        }
      ]
    },
    {
      "cell_type": "markdown",
      "source": [],
      "metadata": {
        "id": "mk1oBvYj1GC2"
      }
    },
    {
      "cell_type": "code",
      "source": [
        "!pip install numdifftools"
      ],
      "metadata": {
        "colab": {
          "base_uri": "https://localhost:8080/"
        },
        "id": "yiLJNuM3Cq0-",
        "outputId": "e971fa90-a8b1-4c90-a012-a529c068b6f2"
      },
      "execution_count": null,
      "outputs": [
        {
          "output_type": "stream",
          "name": "stdout",
          "text": [
            "Collecting numdifftools\n",
            "  Downloading numdifftools-0.9.41-py2.py3-none-any.whl.metadata (39 kB)\n",
            "Requirement already satisfied: numpy>=1.9 in /usr/local/lib/python3.12/dist-packages (from numdifftools) (2.0.2)\n",
            "Requirement already satisfied: scipy>=0.8 in /usr/local/lib/python3.12/dist-packages (from numdifftools) (1.16.1)\n",
            "Downloading numdifftools-0.9.41-py2.py3-none-any.whl (100 kB)\n",
            "\u001b[2K   \u001b[90m━━━━━━━━━━━━━━━━━━━━━━━━━━━━━━━━━━━━━━━━\u001b[0m \u001b[32m100.2/100.2 kB\u001b[0m \u001b[31m8.8 MB/s\u001b[0m eta \u001b[36m0:00:00\u001b[0m\n",
            "\u001b[?25hInstalling collected packages: numdifftools\n",
            "Successfully installed numdifftools-0.9.41\n"
          ]
        }
      ]
    },
    {
      "cell_type": "code",
      "source": [
        "#Лабораторна робота 2\n",
        "#Відокремлення коренів\n",
        "import numpy as np\n",
        "import numdifftools as nd\n",
        "\n",
        "def f(x):\n",
        "    return 6*x**4 + 4*x**3 - x**2 - x - 10\n",
        "\n",
        "\n",
        "def find_segments(): #відокремлюємо корені\n",
        "    search_range = np.arange(-5, 5, 1)\n",
        "\n",
        "    a = None\n",
        "    previous_x = None\n",
        "    current_x  = None\n",
        "    segments = []\n",
        "\n",
        "    for x in search_range:\n",
        "        x = round(x, 4)\n",
        "        current_x = f(x)\n",
        "        if previous_x != None and previous_x * current_x < 0:\n",
        "            segments.append((a, x))\n",
        "        a = x\n",
        "        previous_x = current_x\n",
        "    return segments\n",
        "\n",
        "segments = find_segments()\n",
        "for a, b in segments:\n",
        "    print(f'Found segment:  [{a}, {b}]')\n"
      ],
      "metadata": {
        "colab": {
          "base_uri": "https://localhost:8080/"
        },
        "id": "L-9dn4npCso-",
        "outputId": "199e5587-122b-4f36-a33b-2628005bd8a3"
      },
      "execution_count": null,
      "outputs": [
        {
          "output_type": "stream",
          "name": "stdout",
          "text": [
            "Found segment:  [-2, -1]\n",
            "Found segment:  [1, 2]\n"
          ]
        }
      ]
    },
    {
      "cell_type": "code",
      "source": [
        "import numpy as np\n",
        "import matplotlib.pyplot as plt\n",
        "\n",
        "# Визначення функції\n",
        "def f(x):\n",
        "    return 6*x**4 + 4*x**3 - x**2 - x - 10\n",
        "\n",
        "# Генерація значень x\n",
        "x = np.linspace(-4, 4, 100)\n",
        "\n",
        "# Генерація значень y\n",
        "y = f(x)\n",
        "\n",
        "# Побудова графіка\n",
        "plt.figure(figsize=(8, 6))\n",
        "plt.plot(x, y, label='6*x**4 + 4*x**3 - x**2 - x - 10', color='blue')\n",
        "plt.title('Графік функції 6*x**4 + 4*x**3 - x**2 - x - 10')\n",
        "plt.xlabel('x')\n",
        "plt.ylabel('f(x)')\n",
        "\n",
        "# Додавання осей з стрілками\n",
        "plt.axhline(0, color='black', linewidth=0.5)\n",
        "plt.axvline(0, color='black', linewidth=0.5)\n",
        "\n",
        "plt.text(2.05, -4, 'x', ha='center', va='center')\n",
        "plt.text(-0.3, 190, 'y', ha='center', va='center')\n",
        "\n",
        "plt.grid(True)\n",
        "plt.legend()\n",
        "plt.show()\n"
      ],
      "metadata": {
        "colab": {
          "base_uri": "https://localhost:8080/",
          "height": 584
        },
        "id": "7zUI3d1xZXar",
        "outputId": "3d09d0b6-ca7e-4b5b-c11a-ce8204721b75"
      },
      "execution_count": null,
      "outputs": [
        {
          "output_type": "display_data",
          "data": {
            "text/plain": [
              "<Figure size 800x600 with 1 Axes>"
            ],
            "image/png": "[encoded data removed]"
          },
          "metadata": {}
        }
      ]
    },
    {
      "cell_type": "markdown",
      "source": [
        "![image.png](data:image/png;base64,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)"
      ],
      "metadata": {
        "id": "CTaF0t3LD018"
      }
    },
    {
      "cell_type": "code",
      "source": [
        "#Лабораторна робота. Метод половинного ділення, хорд\n",
        "\n",
        "def rec(a, b, eps):  # метод половинного ділення\n",
        "    while (np.abs(a - b) > eps):\n",
        "        if f(a) * f((a + b) / 2) < 0:\n",
        "            b = (a + b) / 2\n",
        "        else:\n",
        "            a = (a + b) / 2\n",
        "        x = (a + b) / 2\n",
        "\n",
        "    print('x= ', round(x, 5), '  -   Half division method')\n"
      ],
      "metadata": {
        "id": "BgjK94O9Cfxe"
      },
      "execution_count": null,
      "outputs": []
    },
    {
      "cell_type": "code",
      "source": [
        "def hord(a, b, eps):  # метод хорд\n",
        "    derivative_f = nd.Derivative(f, n=2)\n",
        "    if f(a) * derivative_f(a) > 0:\n",
        "        x0 = a\n",
        "        xi = b\n",
        "    else:\n",
        "        x0 = b\n",
        "        xi = a\n",
        "    xi_1 = xi - (xi - x0) * f(xi) / (f(xi) - f(x0))\n",
        "    while (np.abs(xi_1 - xi) > eps):\n",
        "        xi = xi_1\n",
        "        xi_1 = xi - (xi - x0) * f(xi) / (f(xi) - f(x0))\n",
        "    print('x= ', round(xi_1, 5), '  -   Chord method')\n"
      ],
      "metadata": {
        "id": "Sz_KWVf7D2tL"
      },
      "execution_count": null,
      "outputs": []
    },
    {
      "cell_type": "code",
      "source": [
        "if __name__ == \"__main__\":\n",
        "    a1, b1 = -2, -1\n",
        "    a2, b2 = 1, 2\n",
        "    eps = 0.001\n",
        "    print(\"Розв'язки на відрізку [-2,-1]\")\n",
        "    rec(a1, b1, eps)\n",
        "    hord(a1, b1, eps)\n",
        "    print(\"\\n Розв'язки на відрізку [1,2]\")\n",
        "    rec(a2, b2, eps)\n",
        "    hord(a2, b2, eps)"
      ],
      "metadata": {
        "id": "upx7R4yoFZj_",
        "outputId": "e9fa83d2-0e32-44a2-8e2f-aa4308a4b4fe",
        "colab": {
          "base_uri": "https://localhost:8080/"
        }
      },
      "execution_count": null,
      "outputs": [
        {
          "output_type": "stream",
          "name": "stdout",
          "text": [
            "Розв'язки на відрізку [-2,-1]\n",
            "x=  -1.36084   -   Half division method\n",
            "x=  -1.35997   -   Chord method\n",
            "\n",
            " Розв'язки на відрізку [1,2]\n",
            "x=  1.05615   -   Half division method\n",
            "x=  1.05427   -   Chord method\n"
          ]
        }
      ]
    },
    {
      "cell_type": "code",
      "source": [
        "#Лабораторна робота 3. Метод Ньютона (дотичних). Комбінований метод\n",
        "\n",
        "import numpy as np\n",
        "import numdifftools as nd\n",
        "\n",
        "def f(x):\n",
        "    return 6*x**4 + 4*x**3 - x**2 - x - 10\n",
        "\n",
        "def nuton(a, b, eps, f):\n",
        "    df1 = nd.Derivative(f, n=1)   # створюємо callable для 1-ї похідної\n",
        "    df2 = nd.Derivative(f, n=2)   # і для 2-ї\n",
        "    xi = b if f(b) * df2(b) > 0 else a\n",
        "\n",
        "    xi_1 = xi - f(xi) / df1(xi)\n",
        "    while np.abs(xi_1 - xi) > eps:\n",
        "        xi = xi_1\n",
        "        d = df1(xi)\n",
        "        if d == 0:\n",
        "            raise ZeroDivisionError(\"Похідна дорівнює нулю — зупинка.\")\n",
        "        xi_1 = xi - f(xi) / d\n",
        "\n",
        "    print('Метод Ньютона, x =', round(float(xi_1), 4))"
      ],
      "metadata": {
        "id": "t-FUcU4Fj0-f"
      },
      "execution_count": null,
      "outputs": []
    },
    {
      "cell_type": "code",
      "source": [
        "def komb(a, b, eps, f):\n",
        "    df2 = nd.Derivative(f, n=2)(a)\n",
        "    if f(a) * df2 > 0:\n",
        "        a0, b0 = a, b\n",
        "    else:\n",
        "        a0, b0 = b, a\n",
        "    ai, bi = a0, b0\n",
        "\n",
        "    while np.abs(ai - bi) > eps:\n",
        "        ai_1 = ai - f(ai) * (bi - ai) / (f(bi) - f(ai))\n",
        "        bi_1 = bi - f(bi) / nd.Derivative(f, n=1)(bi)\n",
        "        ai, bi = ai_1, bi_1\n",
        "\n",
        "    x = (ai_1 + bi_1) / 2\n",
        "\n",
        "    print('Комбінований метод, x = ', x.round(4))\n"
      ],
      "metadata": {
        "id": "M2T4FA4ifyy_"
      },
      "execution_count": null,
      "outputs": []
    },
    {
      "cell_type": "code",
      "source": [
        "if __name__ == \"__main__\":\n",
        "    a1, b1 = -2, -1\n",
        "    a2, b2 = 1, 2\n",
        "    eps = 0.0001\n",
        "\n",
        "    print(\"Розв'язання на відрізку [-2, -1]\")\n",
        "    nuton(a1, b1, eps, f)\n",
        "    komb(a1, b1, eps, f)\n",
        "    print(\"\\n Розв'язання на відрізку [1, 2]\")\n",
        "    nuton(a2, b2, eps, f)\n",
        "    komb(a2, b2, eps, f)"
      ],
      "metadata": {
        "colab": {
          "base_uri": "https://localhost:8080/"
        },
        "id": "zrxTpvysf0zN",
        "outputId": "efaec8a3-bc71-443a-99fd-57b5d5ee8a28"
      },
      "execution_count": null,
      "outputs": [
        {
          "output_type": "stream",
          "name": "stdout",
          "text": [
            "Розв'язання на відрізку [-2, -1]\n",
            "Метод Ньютона, x = -1.3607\n",
            "Комбінований метод, x =  -1.3607\n",
            "\n",
            " Розв'язання на відрізку [1, 2]\n",
            "Метод Ньютона, x = 1.056\n",
            "Комбінований метод, x =  1.056\n"
          ]
        }
      ]
    },
    {
      "cell_type": "markdown",
      "source": [
        "Завдання 3. Лабораторна робота 3\n",
        "\n",
        "Тема: Відокремлення дійсних коренів рівнянь та їх уточнення методом простої ітерації."
      ],
      "metadata": {
        "id": "370aMnuwjPeK"
      }
    },
    {
      "cell_type": "code",
      "source": [
        "!pip install numdifftools"
      ],
      "metadata": {
        "colab": {
          "base_uri": "https://localhost:8080/"
        },
        "id": "Rc37HrNui3h5",
        "outputId": "381fe3d2-9d4c-4f66-d895-0861e97907bf"
      },
      "execution_count": null,
      "outputs": [
        {
          "output_type": "stream",
          "name": "stdout",
          "text": [
            "Collecting numdifftools\n",
            "  Downloading numdifftools-0.9.41-py2.py3-none-any.whl.metadata (39 kB)\n",
            "Requirement already satisfied: numpy>=1.9 in /usr/local/lib/python3.12/dist-packages (from numdifftools) (2.0.2)\n",
            "Requirement already satisfied: scipy>=0.8 in /usr/local/lib/python3.12/dist-packages (from numdifftools) (1.16.1)\n",
            "Downloading numdifftools-0.9.41-py2.py3-none-any.whl (100 kB)\n",
            "\u001b[?25l   \u001b[90m━━━━━━━━━━━━━━━━━━━━━━━━━━━━━━━━━━━━━━━━\u001b[0m \u001b[32m0.0/100.2 kB\u001b[0m \u001b[31m?\u001b[0m eta \u001b[36m-:--:--\u001b[0m\r\u001b[2K   \u001b[90m━━━━━━━━━━━━━━━━━━━━━━━━━━━━━━━━━━━━━━━━\u001b[0m \u001b[32m100.2/100.2 kB\u001b[0m \u001b[31m6.2 MB/s\u001b[0m eta \u001b[36m0:00:00\u001b[0m\n",
            "\u001b[?25hInstalling collected packages: numdifftools\n",
            "Successfully installed numdifftools-0.9.41\n"
          ]
        }
      ]
    },
    {
      "cell_type": "code",
      "source": [
        "import numdifftools as nd"
      ],
      "metadata": {
        "id": "mCRRGRFlizK1"
      },
      "execution_count": null,
      "outputs": []
    },
    {
      "cell_type": "markdown",
      "source": [
        "![image.png](data:image/png;base64,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)"
      ],
      "metadata": {
        "id": "fArAYxK8tR7u"
      }
    },
    {
      "cell_type": "markdown",
      "source": [
        "Визначаємо, що корінь належить відрізку [-1, 0.7]"
      ],
      "metadata": {
        "id": "49S6DfpDqrQZ"
      }
    },
    {
      "cell_type": "code",
      "source": [
        "def f(x: float):\n",
        "    return x**3 + 3*x**2 + 12*x + 3\n",
        "\n",
        "def fprime(x: float):\n",
        "    return nd.Derivative(f, n=1)\n",
        "\n",
        "def phi(x: float):\n",
        "    # c = -0.1 (забезпечує |phi'(x)|<1 на [-1,0.7])\n",
        "    return x - 0.1 * f(x)\n",
        "\n",
        "def iterate_fixed_point(x0: float, iters: int = 5):\n",
        "    xs = [x0]\n",
        "    x = x0\n",
        "    for _ in range(iters):\n",
        "        x = phi(x)\n",
        "        xs.append(x)\n",
        "    return xs\n",
        "\n",
        "def error_bound(x_last: float) -> float:\n",
        "    # μ = min_{x∈[-1, 0.7]} |f'(x)| = 9\n",
        "    mu = 9.0\n",
        "    return abs(f(x_last)) / mu\n",
        "\n"
      ],
      "metadata": {
        "id": "gt8HxS1AiM0Y"
      },
      "execution_count": null,
      "outputs": []
    },
    {
      "cell_type": "code",
      "source": [
        "def main():\n",
        "    x0 = -1.0\n",
        "    iters = 5\n",
        "    xs = iterate_fixed_point(x0, iters)\n",
        "    print(\"Fixed-point iteration for f(x) = x³ + 3x² + 12x + 3 with phi(x) = x - 0.1*f(x)\")\n",
        "    print(f\"Interval: [-1, 0.7], start x0 = {x0}\")\n",
        "    for i, xi in enumerate(xs):\n",
        "        if i == 0:\n",
        "            print(f\"x_{i} = {xi:.10f}\")\n",
        "        else:\n",
        "            print(f\"x_{i} = phi(x_{i-1}) = {xi:.10f}\")\n",
        "    bound = error_bound(xs[-1])\n",
        "    print(\"\\nError bound after 5 iterations:  |ξ - x5| ≤ |f(x5)| / μ\")\n",
        "    print(f\"f(x5) = {f(xs[-1]):.10f},  μ = 9  ⇒  |ξ - x5| ≤ {bound:.10f}\")\n",
        "    return xs[-1], bound\n",
        "\n",
        "if __name__ == \"__main__\":\n",
        "    root_approx, bound = main()"
      ],
      "metadata": {
        "colab": {
          "base_uri": "https://localhost:8080/"
        },
        "id": "NcUIwAOAimLR",
        "outputId": "3f7827be-7f9c-49af-9e2c-b880aeb74992"
      },
      "execution_count": null,
      "outputs": [
        {
          "output_type": "stream",
          "name": "stdout",
          "text": [
            "Fixed-point iteration for f(x) = x³ + 3x² + 12x + 3 with phi(x) = x - 0.1*f(x)\n",
            "Interval: [-1, 0.7], start x0 = -1.0\n",
            "x_0 = -1.0000000000\n",
            "x_1 = phi(x_0) = -0.3000000000\n",
            "x_2 = phi(x_1) = -0.2643000000\n",
            "x_3 = phi(x_2) = -0.2662500928\n",
            "x_4 = phi(x_3) = -0.2661292918\n",
            "x_5 = phi(x_4) = -0.2661367262\n",
            "\n",
            "Error bound after 5 iterations:  |ξ - x5| ≤ |f(x5)| / μ\n",
            "f(x5) = -0.0000045773,  μ = 9  ⇒  |ξ - x5| ≤ 0.0000005086\n"
          ]
        }
      ]
    },
    {
      "cell_type": "markdown",
      "source": [
        "Спрощений варіант коду\n"
      ],
      "metadata": {
        "id": "_gkwLHTNkDwS"
      }
    },
    {
      "cell_type": "code",
      "source": [
        "# Рівняння: f(x) = x³ + 3x² + 12x + 3 = 0\n",
        "# Ітераційна функція: φ(x) = x - 0.1 * f(x)  (c = -0.1)\n",
        "# Початкове наближення: x0 = -1\n",
        "# Кількість ітерацій: 5\n",
        "# Оцінка похибки: |ξ - x5| ≤ |f(x5)| / μ, де μ = min_{[-1, 0.7]} |f'(x)| = 9\n",
        "\n",
        "def f(x):\n",
        "    return x**3 + 3*x**2 + 12*x + 3\n",
        "\n",
        "def phi(x):\n",
        "    return x - 0.1 * f(x)   # c = -0.1\n",
        "\n",
        "def fixed_point(x0=-1.0, iters=5):\n",
        "    xs = [x0]\n",
        "    for _ in range(iters):\n",
        "        xs.append(phi(xs[-1]))\n",
        "    return xs\n",
        "\n",
        "# Запуск і вивід результатів\n",
        "xs = fixed_point(-1.0, 5)\n",
        "\n",
        "for i, xi in enumerate(xs):\n",
        "    print(f\"x_{i} = {xi:.10f}\")\n",
        "\n",
        "# Похибка методу простої ітерації після 5-ї ітерації\n",
        "mu = 9.0                      # μ = min_{[-1, 0.7]} |3x^2 + 6x + 12| = 9\n",
        "err_bound = abs(f(xs[-1]))/mu\n",
        "print(f\"\\nОцінка похибки: |ξ - x5| ≤ {err_bound:.10f}\")"
      ],
      "metadata": {
        "colab": {
          "base_uri": "https://localhost:8080/"
        },
        "id": "womZO91vj9vN",
        "outputId": "c80a1cea-832b-409d-94e7-eea11d3f4cc2"
      },
      "execution_count": null,
      "outputs": [
        {
          "output_type": "stream",
          "name": "stdout",
          "text": [
            "x_0 = -1.0000000000\n",
            "x_1 = -0.3000000000\n",
            "x_2 = -0.2643000000\n",
            "x_3 = -0.2662500928\n",
            "x_4 = -0.2661292918\n",
            "x_5 = -0.2661367262\n",
            "\n",
            "Оцінка похибки: |ξ - x5| ≤ 0.0000005086\n"
          ]
        }
      ]
    }
  ]
}