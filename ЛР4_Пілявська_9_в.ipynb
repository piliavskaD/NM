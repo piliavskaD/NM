{
  "nbformat": 4,
  "nbformat_minor": 0,
  "metadata": {
    "colab": {
      "provenance": [],
      "authorship_tag": "ABX9TyN5RxutGDTFhK8SwtDQWHRY",
      "include_colab_link": true
    },
    "kernelspec": {
      "name": "python3",
      "display_name": "Python 3"
    },
    "language_info": {
      "name": "python"
    }
  },
  "cells": [
    {
      "cell_type": "markdown",
      "metadata": {
        "id": "view-in-github",
        "colab_type": "text"
      },
      "source": [
        "<a href=\"https://colab.research.google.com/github/piliavskaD/NM/blob/main/%D0%9B%D0%A04_%D0%9F%D1%96%D0%BB%D1%8F%D0%B2%D1%81%D1%8C%D0%BA%D0%B0_9_%D0%B2.ipynb\" target=\"_parent\"><img src=\"https://colab.research.google.com/assets/colab-badge.svg\" alt=\"Open In Colab\"/></a>"
      ]
    },
    {
      "cell_type": "markdown",
      "source": [
        "Була присутня на парі 26.09"
      ],
      "metadata": {
        "id": "EdY7zVmaNCPA"
      }
    },
    {
      "cell_type": "code",
      "execution_count": null,
      "metadata": {
        "colab": {
          "base_uri": "https://localhost:8080/",
          "height": 35
        },
        "id": "Q_Z_8j5kNA8Y",
        "outputId": "19e5914a-526b-44ed-e139-f07db2d54391"
      },
      "outputs": [
        {
          "output_type": "execute_result",
          "data": {
            "text/plain": [
              "'2.0.2'"
            ],
            "application/vnd.google.colaboratory.intrinsic+json": {
              "type": "string"
            }
          },
          "metadata": {},
          "execution_count": 2
        }
      ],
      "source": [
        "import numpy as np\n",
        "\n",
        "numpy_version = np.__version__\n",
        "numpy_version"
      ]
    },
    {
      "cell_type": "code",
      "source": [
        "matrix = np.random.randint(1, 6, size=(3, 3))\n",
        "\n",
        "matrix"
      ],
      "metadata": {
        "colab": {
          "base_uri": "https://localhost:8080/"
        },
        "id": "ZebkCZn8NpZ3",
        "outputId": "e26e2fdc-4b9f-402e-88eb-4641e4a1c3c8"
      },
      "execution_count": null,
      "outputs": [
        {
          "output_type": "execute_result",
          "data": {
            "text/plain": [
              "array([[2, 2, 4],\n",
              "       [1, 1, 5],\n",
              "       [2, 4, 3]])"
            ]
          },
          "metadata": {},
          "execution_count": 3
        }
      ]
    },
    {
      "cell_type": "code",
      "source": [
        "det = np.linalg.det(matrix)\n",
        "det"
      ],
      "metadata": {
        "colab": {
          "base_uri": "https://localhost:8080/"
        },
        "id": "6L02tit6Wr7v",
        "outputId": "0b4277ff-3447-43c3-8232-c271ec1e4bc1"
      },
      "execution_count": null,
      "outputs": [
        {
          "output_type": "execute_result",
          "data": {
            "text/plain": [
              "np.float64(-12.0)"
            ]
          },
          "metadata": {},
          "execution_count": 26
        }
      ]
    },
    {
      "cell_type": "code",
      "source": [
        "product = np.prod(matrix)\n",
        "product"
      ],
      "metadata": {
        "colab": {
          "base_uri": "https://localhost:8080/"
        },
        "id": "2s7WXoOyW9mP",
        "outputId": "9e0129a3-18cc-45f6-a972-9cc2058f91b9"
      },
      "execution_count": null,
      "outputs": [
        {
          "output_type": "execute_result",
          "data": {
            "text/plain": [
              "np.int64(1920)"
            ]
          },
          "metadata": {},
          "execution_count": 27
        }
      ]
    },
    {
      "cell_type": "code",
      "source": [
        "prod_1 = np.prod(matrix[0])\n",
        "prod_2 = np.prod(matrix[1])\n",
        "prod_3 = np.prod(matrix[2])\n",
        "prod_1*prod_2*prod_3\n"
      ],
      "metadata": {
        "colab": {
          "base_uri": "https://localhost:8080/"
        },
        "id": "RedD7TFkOZpH",
        "outputId": "b1821d5e-00d9-46d6-caa4-29b01b5ae274"
      },
      "execution_count": null,
      "outputs": [
        {
          "output_type": "execute_result",
          "data": {
            "text/plain": [
              "np.int64(1920)"
            ]
          },
          "metadata": {},
          "execution_count": 4
        }
      ]
    },
    {
      "cell_type": "code",
      "source": [
        "np.sum(matrix)"
      ],
      "metadata": {
        "colab": {
          "base_uri": "https://localhost:8080/"
        },
        "id": "BGmgHMwRO9I_",
        "outputId": "429fd75b-d670-4634-89b7-7588b5f606ea"
      },
      "execution_count": null,
      "outputs": [
        {
          "output_type": "execute_result",
          "data": {
            "text/plain": [
              "np.int64(24)"
            ]
          },
          "metadata": {},
          "execution_count": 5
        }
      ]
    },
    {
      "cell_type": "code",
      "source": [
        "np.max(matrix)"
      ],
      "metadata": {
        "colab": {
          "base_uri": "https://localhost:8080/"
        },
        "id": "vyH97QlsP6q2",
        "outputId": "554e1866-bc16-47c2-a9ad-9a246af7ff83"
      },
      "execution_count": null,
      "outputs": [
        {
          "output_type": "execute_result",
          "data": {
            "text/plain": [
              "np.int64(5)"
            ]
          },
          "metadata": {},
          "execution_count": 6
        }
      ]
    },
    {
      "cell_type": "code",
      "source": [
        "np.min(matrix)"
      ],
      "metadata": {
        "colab": {
          "base_uri": "https://localhost:8080/"
        },
        "id": "9qli6B84P_RG",
        "outputId": "25aa3812-395d-4798-c568-dfafc2edabb5"
      },
      "execution_count": null,
      "outputs": [
        {
          "output_type": "execute_result",
          "data": {
            "text/plain": [
              "np.int64(1)"
            ]
          },
          "metadata": {},
          "execution_count": 7
        }
      ]
    },
    {
      "cell_type": "code",
      "source": [
        "np.mean(matrix)"
      ],
      "metadata": {
        "colab": {
          "base_uri": "https://localhost:8080/"
        },
        "id": "PRcs0p5wQBnm",
        "outputId": "abac0a78-a3df-4759-cd24-b1f73f664b33"
      },
      "execution_count": null,
      "outputs": [
        {
          "output_type": "execute_result",
          "data": {
            "text/plain": [
              "np.float64(2.6666666666666665)"
            ]
          },
          "metadata": {},
          "execution_count": 8
        }
      ]
    },
    {
      "cell_type": "code",
      "source": [
        "sqrt_matrix = np.sqrt(matrix)\n",
        "\n",
        "print(\"Мфтриця квадратних коренів\")\n",
        "print(sqrt_matrix)"
      ],
      "metadata": {
        "colab": {
          "base_uri": "https://localhost:8080/"
        },
        "id": "L0CUjkVzQG_f",
        "outputId": "6f2f5487-a907-42bd-af61-2e88a85c470f"
      },
      "execution_count": null,
      "outputs": [
        {
          "output_type": "stream",
          "name": "stdout",
          "text": [
            "Мфтриця квадратних коренів\n",
            "[[1.41421356 1.41421356 2.        ]\n",
            " [1.         1.         2.23606798]\n",
            " [1.41421356 2.         1.73205081]]\n"
          ]
        }
      ]
    },
    {
      "cell_type": "code",
      "source": [
        "print(\"Сума елементів кожного рядка\")\n",
        "np.sum(matrix, axis=1).reshape(-1, 1)\n"
      ],
      "metadata": {
        "colab": {
          "base_uri": "https://localhost:8080/"
        },
        "id": "GrxZ8X0AQbQv",
        "outputId": "57544fcc-acf8-446c-a091-19eb887bbaaf"
      },
      "execution_count": null,
      "outputs": [
        {
          "output_type": "stream",
          "name": "stdout",
          "text": [
            "Сума елементів кожного рядка\n"
          ]
        },
        {
          "output_type": "execute_result",
          "data": {
            "text/plain": [
              "array([[8],\n",
              "       [7],\n",
              "       [9]])"
            ]
          },
          "metadata": {},
          "execution_count": 11
        }
      ]
    },
    {
      "cell_type": "code",
      "source": [
        "matrix.sum(axis=1)"
      ],
      "metadata": {
        "colab": {
          "base_uri": "https://localhost:8080/"
        },
        "id": "CCf9Vs-zRRag",
        "outputId": "f7fc07f2-6221-444b-89eb-f54c9f690195"
      },
      "execution_count": null,
      "outputs": [
        {
          "output_type": "execute_result",
          "data": {
            "text/plain": [
              "array([8, 7, 9])"
            ]
          },
          "metadata": {},
          "execution_count": 13
        }
      ]
    },
    {
      "cell_type": "code",
      "source": [
        "x = np.matrix([[1, 2], [4, 3]])\n",
        "x"
      ],
      "metadata": {
        "colab": {
          "base_uri": "https://localhost:8080/"
        },
        "id": "4GreKKdOST1_",
        "outputId": "363caf5c-0fc2-4870-eaef-73681ba3e7d0"
      },
      "execution_count": null,
      "outputs": [
        {
          "output_type": "execute_result",
          "data": {
            "text/plain": [
              "matrix([[1, 2],\n",
              "        [4, 3]])"
            ]
          },
          "metadata": {},
          "execution_count": 14
        }
      ]
    },
    {
      "cell_type": "code",
      "source": [
        "x.sum(axis=1, dtype=\"float\")"
      ],
      "metadata": {
        "colab": {
          "base_uri": "https://localhost:8080/"
        },
        "id": "hkEkqwdeSeN-",
        "outputId": "3968c65c-158d-4cf7-886e-eec045d81d3c"
      },
      "execution_count": null,
      "outputs": [
        {
          "output_type": "execute_result",
          "data": {
            "text/plain": [
              "matrix([[3.],\n",
              "        [7.]])"
            ]
          },
          "metadata": {},
          "execution_count": 16
        }
      ]
    },
    {
      "cell_type": "code",
      "source": [
        "vector = np.random.randint(0, 10, size=25)\n",
        "vector"
      ],
      "metadata": {
        "colab": {
          "base_uri": "https://localhost:8080/"
        },
        "id": "D5bib54US1Im",
        "outputId": "0996846b-a65e-4cc0-d0b1-18e92cafec56"
      },
      "execution_count": null,
      "outputs": [
        {
          "output_type": "execute_result",
          "data": {
            "text/plain": [
              "array([4, 5, 8, 3, 1, 1, 2, 7, 1, 7, 1, 4, 6, 2, 4, 8, 1, 2, 8, 9, 9, 0,\n",
              "       1, 1, 3])"
            ]
          },
          "metadata": {},
          "execution_count": 17
        }
      ]
    },
    {
      "cell_type": "code",
      "source": [
        "sorted_vector = np.sort(vector)[::1]\n",
        "sorted_vector"
      ],
      "metadata": {
        "colab": {
          "base_uri": "https://localhost:8080/"
        },
        "id": "CyXzorGCTMCX",
        "outputId": "f854cded-7f58-4a16-82ba-938ab5da1b3d"
      },
      "execution_count": null,
      "outputs": [
        {
          "output_type": "execute_result",
          "data": {
            "text/plain": [
              "array([0, 1, 1, 1, 1, 1, 1, 1, 2, 2, 2, 3, 3, 4, 4, 4, 5, 6, 7, 7, 8, 8,\n",
              "       8, 9, 9])"
            ]
          },
          "metadata": {},
          "execution_count": 18
        }
      ]
    },
    {
      "cell_type": "markdown",
      "source": [
        "![image.png](data:image/png;base64,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)"
      ],
      "metadata": {
        "id": "j-gggfbcUEi3"
      }
    },
    {
      "cell_type": "code",
      "source": [
        "import numpy as np\n",
        "a = np.array([\n",
        "    [1, -2, 3],\n",
        "    [4, 2, -3],\n",
        "    [3, -3, 5],\n",
        "])\n",
        "b = np.array([[-5], [0], [-9]])"
      ],
      "metadata": {
        "id": "tBzlQUJmUIF-"
      },
      "execution_count": null,
      "outputs": []
    },
    {
      "cell_type": "code",
      "source": [
        "det_a = np.linalg.det(a)\n",
        "if det_a == 0:\n",
        "    print(\"Визначник дорівнює нулю - рішень немає\")\n",
        "else:\n",
        "  a_inv = np.linalg.inv(a)\n",
        "  print(f\"Обернена матриця до матриці A: \\r\\n {a_inv }\")\n",
        "  print(f\"Вектор рішення: \\r\\n {a_inv.dot(b)}\")"
      ],
      "metadata": {
        "colab": {
          "base_uri": "https://localhost:8080/"
        },
        "id": "XcKZuQoJUoG4",
        "outputId": "b26a9134-ee3d-44d3-bfc8-e301cae4504b"
      },
      "execution_count": null,
      "outputs": [
        {
          "output_type": "stream",
          "name": "stdout",
          "text": [
            "Обернена матриця до матриці A: \r\n",
            " [[ 0.2  0.2  0. ]\n",
            " [-5.8 -0.8  3. ]\n",
            " [-3.6 -0.6  2. ]]\n",
            "Вектор рішення: \r\n",
            " [[-1.0000000e+00]\n",
            " [ 2.0000000e+00]\n",
            " [-8.8817842e-16]]\n"
          ]
        }
      ]
    },
    {
      "cell_type": "code",
      "source": [
        "#метод Крамера (1 спосіб)\n",
        "# Метод Крамера\n",
        "det_a = np.linalg.det(a)\n",
        "\n",
        "if det_a == 0:\n",
        "    print(\"Визначник дорівнює нулю — система не має єдиного розв’язку.\")\n",
        "else:\n",
        "    def replace_column(matrix, column_index, new_column):\n",
        "        new_matrix = np.copy(matrix)\n",
        "        new_matrix[:, column_index] = new_column\n",
        "        return new_matrix\n",
        "\n",
        "    # Обчислюємо Δx, Δy, Δz\n",
        "    delta_x = np.linalg.det(replace_column(a, 0, b.T))\n",
        "    delta_y = np.linalg.det(replace_column(a, 1, b.T))\n",
        "    delta_z = np.linalg.det(replace_column(a, 2, b.T))\n",
        "\n",
        "    # Обчислюємо x, y, z\n",
        "    print('x =', delta_x / det_a)\n",
        "    print('y =', delta_y / det_a)\n",
        "    print('z =', delta_z / det_a)"
      ],
      "metadata": {
        "colab": {
          "base_uri": "https://localhost:8080/"
        },
        "id": "m9j9uZwDVWLP",
        "outputId": "866e0db4-c52a-48d8-f17a-73ed9a5ae25c"
      },
      "execution_count": null,
      "outputs": [
        {
          "output_type": "stream",
          "name": "stdout",
          "text": [
            "x = -1.0000000000000004\n",
            "y = 1.9999999999999996\n",
            "z = 0.0\n"
          ]
        }
      ]
    },
    {
      "cell_type": "code",
      "source": [
        "x = np.linalg.solve(a, b)\n",
        "\n",
        "print(x)"
      ],
      "metadata": {
        "colab": {
          "base_uri": "https://localhost:8080/"
        },
        "id": "N6D5ku7cVb-u",
        "outputId": "90b39574-978b-41dc-d7f6-cd7a09fa0a1b"
      },
      "execution_count": null,
      "outputs": [
        {
          "output_type": "stream",
          "name": "stdout",
          "text": [
            "[[-1.]\n",
            " [ 2.]\n",
            " [-0.]]\n"
          ]
        }
      ]
    }
  ]
}