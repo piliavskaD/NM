{
  "nbformat": 4,
  "nbformat_minor": 0,
  "metadata": {
    "colab": {
      "provenance": [],
      "include_colab_link": true
    },
    "kernelspec": {
      "name": "python3",
      "display_name": "Python 3"
    },
    "language_info": {
      "name": "python"
    }
  },
  "cells": [
    {
      "cell_type": "markdown",
      "metadata": {
        "id": "view-in-github",
        "colab_type": "text"
      },
      "source": [
        "<a href=\"https://colab.research.google.com/github/piliavskaD/NM/blob/main/%D0%9B%D0%A02_%D0%9F%D1%96%D0%BB%D1%8F%D0%B2%D1%81%D1%8C%D0%BA%D0%B0_9_ipynb%22.ipynb\" target=\"_parent\"><img src=\"https://colab.research.google.com/assets/colab-badge.svg\" alt=\"Open In Colab\"/></a>"
      ]
    },
    {
      "cell_type": "markdown",
      "source": [
        "1. Метод ділення навпіл."
      ],
      "metadata": {
        "id": "VgrW9zRY0dVt"
      }
    },
    {
      "cell_type": "code",
      "execution_count": null,
      "metadata": {
        "colab": {
          "base_uri": "https://localhost:8080/"
        },
        "id": "iOTNXySVyeHy",
        "outputId": "1171ee55-ec2d-43a3-92c4-13fd6c08b988"
      },
      "outputs": [
        {
          "output_type": "stream",
          "name": "stdout",
          "text": [
            "Результати обчислень\n",
            "\n",
            "          a      F(a)         c      F(c)       b      F(b)\n",
            "0 -3.000000  0.977954 -2.000000  1.135204 -1.0000 -0.454649\n",
            "1 -2.000000  1.135204 -1.500000 -0.123480 -1.0000 -0.454649\n",
            "2 -2.000000  1.135204 -1.750000  0.405593 -1.5000 -0.123480\n",
            "3 -1.750000  0.405593 -1.625000  0.109040 -1.5000 -0.123480\n",
            "4 -1.625000  0.109040 -1.562500 -0.015587 -1.5000 -0.123480\n",
            "5 -1.625000  0.109040 -1.593750  0.044659 -1.5625 -0.015587\n",
            "6 -1.593750  0.044659 -1.578125  0.014015 -1.5625 -0.015587\n",
            "7 -1.578125  0.014015 -1.570312 -0.000917 -1.5625 -0.015587\n",
            "\n",
            "В точці с =  -1.5703125 , f(c) =  -0.0009171268569415665\n"
          ]
        }
      ],
      "source": [
        "import numpy as np\n",
        "import pandas as pd\n",
        "\n",
        "# Визначаємо функцію\n",
        "def f (x):\n",
        "    y = np.cos(x)*np.sin(x)*(x**2+x+1)\n",
        "    return y\n",
        "# Визначаємо границі відрізку\n",
        "a, b = -3, -1\n",
        "# Визначаємо точність розв'язку\n",
        "h = 0.001\n",
        "# Поділяємо відрізок навпіл\n",
        "c = (a+b)/2\n",
        "# Зберігаємо результати обчислень\n",
        "data_A = [a]\n",
        "data_B = [b]\n",
        "data_C = [c]\n",
        "data_F_A = [f(a)]\n",
        "data_F_B = [f(b)]\n",
        "data_F_C = [f(c)]\n",
        "# Перевіряємо досягнення точності\n",
        "while abs(f(c)) > h:\n",
        "    # Звужуємо відрізок\n",
        "    if np.sign(f(c)) == np.sign(f(a)):\n",
        "        a = c\n",
        "    else:\n",
        "        b = c\n",
        "    # Поділяємо відрізок навпіл\n",
        "    c = (a+b)/2\n",
        "    # Зберігаємо результати обчислень\n",
        "    data_A.append(a)\n",
        "    data_B.append(b)\n",
        "    data_C.append(c)\n",
        "    data_F_A.append(f(a))\n",
        "    data_F_B.append(f(b))\n",
        "    data_F_C.append(f(c))\n",
        "# Відображаємо результати обчислень\n",
        "print('Результати обчислень')\n",
        "print()\n",
        "data = pd.DataFrame({'a': data_A,\n",
        "                     'F(a)': data_F_A,\n",
        "                     'c': data_C,\n",
        "                     'F(c)': data_F_C,\n",
        "                     'b': data_B,\n",
        "                     'F(b)': data_F_B})\n",
        "print(data)\n",
        "# Відображаємо наближений корінь рівняння\n",
        "print()\n",
        "print('В точці с = ', c, ', f(c) = ', f(c))"
      ]
    },
    {
      "cell_type": "markdown",
      "source": [
        "2. Метод ділення навпіл"
      ],
      "metadata": {
        "id": "5hYa7ucn0PEN"
      }
    },
    {
      "cell_type": "code",
      "source": [
        "import numpy as np\n",
        "import scipy.optimize as sp\n",
        "\n",
        "def f(x):\n",
        "    y = np.cos(x)*np.sin(x)*(x**2+x+1)\n",
        "    return y\n",
        "\n",
        "a, b = -3, -1\n",
        "eps = 1.e-3\n",
        "\n",
        "x = sp.bisect(f, a, b,(),eps) #функція для метода\n",
        "\n",
        "print('The approximate solution x is:', x)\n",
        "print('And the value f(x) is:', f(x))"
      ],
      "metadata": {
        "colab": {
          "base_uri": "https://localhost:8080/"
        },
        "id": "ML3KEw5q0H1e",
        "outputId": "ba6d3a4c-ad2f-467d-eec9-ff71ca372431"
      },
      "execution_count": null,
      "outputs": [
        {
          "output_type": "stream",
          "name": "stdout",
          "text": [
            "The approximate solution x is: -1.5712890625\n",
            "And the value f(x) is: 0.0009350448126615916\n"
          ]
        }
      ]
    },
    {
      "cell_type": "markdown",
      "source": [
        "3. Метод хорд"
      ],
      "metadata": {
        "id": "sYf0IvR41ufd"
      }
    },
    {
      "cell_type": "code",
      "source": [
        "import numpy as np\n",
        "import pandas as pd\n",
        "# Визначаємо функцію\n",
        "def f(x):\n",
        "    y = np.cos(x)*np.sin(x)*(x**2+x+1)\n",
        "    return y\n",
        "# Визначаємо межі відрізку\n",
        "a, b = -3, -1\n",
        "# Визначаємо точність розв'язку\n",
        "eps = 0.001\n",
        "# Точка, де хорда перетинає вісь 0x\n",
        "c = (f(a)*b-a*f(b))/(f(a)-f(b))\n",
        "\n",
        "# Зберігаємо результати обчислень\n",
        "data_A = [a]\n",
        "data_B = [b]\n",
        "data_C = [c]\n",
        "data_F_A = [f(a)]\n",
        "data_F_B = [f(b)]\n",
        "data_F_C = [f(c)]\n",
        "# Перевіряємо досягнення точності\n",
        "while abs(f(c)) > eps:\n",
        "    # Звужуємо відрізок\n",
        "    if np.sign(f(c)) == np.sign(f(a)):\n",
        "        a = c\n",
        "    else:\n",
        "        b = c\n",
        "    # Точка, де хорда перетинає вісь 0x\n",
        "    c = (f(a)*b-a*f(b))/(f(a)-f(b))\n",
        "    # Зберігаємо результати обчислень\n",
        "    data_A.append(a)\n",
        "    data_B.append(b)\n",
        "    data_C.append(c)\n",
        "    data_F_A.append(f(a))\n",
        "    data_F_B.append(f(b))\n",
        "    data_F_C.append(f(c))\n",
        "# Відображаємо результати обчислень\n",
        "print('Результати обчислень')\n",
        "print()\n",
        "data = pd.DataFrame({'a': data_A, 'F(a)': data_F_A,\n",
        "                     'c': data_C, 'F(c)': data_F_C,\n",
        "                     'b': data_B, 'F(b)': data_F_B})\n",
        "print(data)\n",
        "# Відображаємо наближений корінь рівняння\n",
        "print()\n",
        "print('В точці с = ', c, ', f(c) = ', f(c))"
      ],
      "metadata": {
        "colab": {
          "base_uri": "https://localhost:8080/"
        },
        "id": "3p6i5xHK1y3l",
        "outputId": "5d7cb481-6809-4eb0-e7a6-f4fa9e7e78db"
      },
      "execution_count": null,
      "outputs": [
        {
          "output_type": "stream",
          "name": "stdout",
          "text": [
            "Результати обчислень\n",
            "\n",
            "          a      F(a)         c      F(c)         b      F(b)\n",
            "0 -3.000000  0.977954 -1.634717  0.129889 -1.000000 -0.454649\n",
            "1 -1.634717  0.129889 -1.493678 -0.133455 -1.000000 -0.454649\n",
            "2 -1.634717  0.129889 -1.565152 -0.010636 -1.493678 -0.133455\n",
            "3 -1.634717  0.129889 -1.570418 -0.000718 -1.565152 -0.010636\n",
            "\n",
            "В точці с =  -1.5704175737258015 , f(c) =  -0.0007180376446871882\n"
          ]
        }
      ]
    },
    {
      "cell_type": "markdown",
      "source": [
        "4. Метод Ньютона (дотичних)"
      ],
      "metadata": {
        "id": "40blPBSK2Cdm"
      }
    },
    {
      "cell_type": "code",
      "source": [
        "import numpy as np\n",
        "import pandas as pd\n",
        "# Визначаємо функцію\n",
        "def f(x):\n",
        "    y = np.cos(x)*np.sin(x)*(x**2+x+1)\n",
        "    return y\n",
        "# Визначаємо першу похідну\n",
        "def df(x):\n",
        "    y1 = -(x**2+x+1)*(np.sin(x))**2\n",
        "    y2 = (x**2+x+1)*(np.cos(x))**2\n",
        "    y3 = (2*x+1)*np.sin(x)*np.cos(x)\n",
        "    y = y1+y2+y3\n",
        "    return y\n",
        "# Визначаємо початкову точку\n",
        "c = -1.4\n",
        "# Визначаємо точність розв'язку\n",
        "h = 0.001\n",
        "# Зберігаємо результати обчислень\n",
        "data_C = [c]\n",
        "data_F_C = [f(c)]\n",
        "# Перевіряємо досягнення точності\n",
        "while abs(f(c)) > h:\n",
        "    # Точка, де дотична перетинає вісь 0x\n",
        "    c -= f(c)/df(c)\n",
        "    # Зберігаємо результати обчислень\n",
        "    data_C.append(c)\n",
        "    data_F_C.append(f(c))\n",
        "# Відображаємо результати обчислень\n",
        "print('Результати обчислень')\n",
        "print()\n",
        "data = pd.DataFrame({'c': data_C, 'F(c)': data_F_C})\n",
        "print(data)\n",
        "# Відображаємо наближений корінь рівняння\n",
        "print()\n",
        "print('В точці с = ', c, ', f(c) = ', f(c))"
      ],
      "metadata": {
        "colab": {
          "base_uri": "https://localhost:8080/"
        },
        "id": "WeGQjbjW2HDz",
        "outputId": "7fd55bf4-4d4c-43ea-ce09-3fbf365aa5c5"
      },
      "execution_count": null,
      "outputs": [
        {
          "output_type": "stream",
          "name": "stdout",
          "text": [
            "Результати обчислень\n",
            "\n",
            "          c      F(c)\n",
            "0 -1.400000 -0.261291\n",
            "1 -1.623636  0.106144\n",
            "2 -1.573564  0.005266\n",
            "3 -1.570805  0.000016\n",
            "\n",
            "В точці с =  -1.5708049170979717 , f(c) =  1.6292567852764437e-05\n"
          ]
        }
      ]
    },
    {
      "cell_type": "markdown",
      "source": [
        "5. Метод Ньютона (дотичних)"
      ],
      "metadata": {
        "id": "qjI38bTp0xCo"
      }
    },
    {
      "cell_type": "code",
      "source": [
        "import numpy as np\n",
        "import scipy.optimize as sp\n",
        "\n",
        "def f(x):\n",
        "    y = np.cos(x)*np.sin(x)*(x**2+x+1)\n",
        "    return y\n",
        "\n",
        "def df(x):# Обчислення похідної\n",
        "    y1 = -(x**2+x+1)*(np.sin(x))**2\n",
        "    y2 = (x**2+x+1)*(np.cos(x))**2\n",
        "    y3 = (2*x+1)*np.sin(x)*np.cos(x)\n",
        "    y = y1+y2+y3\n",
        "    return y\n",
        "\n",
        "x0 = -1.4\n",
        "x1 = 1.4\n",
        "\n",
        "x_0 = sp.newton(f, x0, df, tol=1.e-3, maxiter=50)\n",
        "x_1 = sp.newton(f, x1, df, tol=1.e-3, maxiter=50)\n",
        "\n",
        "print('The approximate solution x is:', x_0)\n",
        "print('And the value f(x_0) is:', f(x_0))\n",
        "\n",
        "print('The approximate solution x is:', x_1)\n",
        "print('And the value f(x_0) is:', f(x_1))"
      ],
      "metadata": {
        "colab": {
          "base_uri": "https://localhost:8080/"
        },
        "id": "AonZxq_H0m6-",
        "outputId": "7acab5b7-6894-4cb1-b0d3-217d498bae02"
      },
      "execution_count": null,
      "outputs": [
        {
          "output_type": "stream",
          "name": "stdout",
          "text": [
            "The approximate solution x is: -1.5707963268782201\n",
            "And the value f(x_0) is: 1.5803176499052036e-10\n",
            "The approximate solution x is: 1.5707963267958693\n",
            "And the value f(x_0) is: -4.9007361645997675e-12\n"
          ]
        }
      ]
    },
    {
      "cell_type": "markdown",
      "source": [
        " # Знаходження коренів рівняння за допомогою бібліотеки SymPy"
      ],
      "metadata": {
        "id": "pvK9N9TH1QD-"
      }
    },
    {
      "cell_type": "code",
      "source": [
        "import sympy as sym\n",
        "\n",
        "x = sym.Symbol('x')\n",
        "\n",
        "y = sym.cos(x)*sym.sin(x)*(x**2+x+1)\n",
        "\n",
        "s = sym.solve(y)\n",
        "\n",
        "print(s)"
      ],
      "metadata": {
        "colab": {
          "base_uri": "https://localhost:8080/"
        },
        "id": "PuAp1WCr08qt",
        "outputId": "36c578b1-b0b4-40d5-8142-44bf252e747d"
      },
      "execution_count": null,
      "outputs": [
        {
          "output_type": "stream",
          "name": "stdout",
          "text": [
            "[0, pi/2, pi, 3*pi/2, -1/2 - sqrt(3)*I/2, -1/2 + sqrt(3)*I/2]\n"
          ]
        }
      ]
    },
    {
      "cell_type": "code",
      "source": [
        "import sympy as sym\n",
        "\n",
        "x, a, b, c = sym.symbols('x, a, b, c')\n",
        "\n",
        "y = a * x**2 + b * x + c\n",
        "\n",
        "s = sym.solve(y, x)\n",
        "\n",
        "print(s)"
      ],
      "metadata": {
        "colab": {
          "base_uri": "https://localhost:8080/"
        },
        "id": "Y0d-uHtp1c7r",
        "outputId": "42a681c2-3c44-4db2-dbe7-7c1615e9bbe9"
      },
      "execution_count": null,
      "outputs": [
        {
          "output_type": "stream",
          "name": "stdout",
          "text": [
            "[(-b - sqrt(-4*a*c + b**2))/(2*a), (-b + sqrt(-4*a*c + b**2))/(2*a)]\n"
          ]
        }
      ]
    },
    {
      "cell_type": "markdown",
      "source": [],
      "metadata": {
        "id": "mk1oBvYj1GC2"
      }
    },
    {
      "cell_type": "code",
      "source": [
        "!pip install numdifftools"
      ],
      "metadata": {
        "colab": {
          "base_uri": "https://localhost:8080/"
        },
        "id": "yiLJNuM3Cq0-",
        "outputId": "5ad366d3-35c9-491e-d5f9-0736082e7bb2"
      },
      "execution_count": 4,
      "outputs": [
        {
          "output_type": "stream",
          "name": "stdout",
          "text": [
            "Collecting numdifftools\n",
            "  Downloading numdifftools-0.9.41-py2.py3-none-any.whl.metadata (39 kB)\n",
            "Requirement already satisfied: numpy>=1.9 in /usr/local/lib/python3.12/dist-packages (from numdifftools) (2.0.2)\n",
            "Requirement already satisfied: scipy>=0.8 in /usr/local/lib/python3.12/dist-packages (from numdifftools) (1.16.1)\n",
            "Downloading numdifftools-0.9.41-py2.py3-none-any.whl (100 kB)\n",
            "\u001b[2K   \u001b[90m━━━━━━━━━━━━━━━━━━━━━━━━━━━━━━━━━━━━━━━━\u001b[0m \u001b[32m100.2/100.2 kB\u001b[0m \u001b[31m3.5 MB/s\u001b[0m eta \u001b[36m0:00:00\u001b[0m\n",
            "\u001b[?25hInstalling collected packages: numdifftools\n",
            "Successfully installed numdifftools-0.9.41\n"
          ]
        }
      ]
    },
    {
      "cell_type": "code",
      "source": [
        "#Лабораторна робота 2\n",
        "#Відокремлення коренів\n",
        "import numpy as np\n",
        "import numdifftools as nd\n",
        "\n",
        "def f(x):\n",
        "    return 6*x**4 + 4*x**3 - x**2 - x - 10\n",
        "\n",
        "\n",
        "def find_segments(): #відокремлюємо корені\n",
        "    search_range = np.arange(-5, 5, 1)\n",
        "\n",
        "    a = None\n",
        "    previous_x = None\n",
        "    current_x  = None\n",
        "    segments = []\n",
        "\n",
        "    for x in search_range:\n",
        "        x = round(x, 4)\n",
        "        current_x = f(x)\n",
        "        if previous_x != None and previous_x * current_x < 0:\n",
        "            segments.append((a, x))\n",
        "        a = x\n",
        "        previous_x = current_x\n",
        "    return segments\n",
        "\n",
        "segments = find_segments()\n",
        "for a, b in segments:\n",
        "    print(f'Found segment:  [{a}, {b}]')\n"
      ],
      "metadata": {
        "colab": {
          "base_uri": "https://localhost:8080/"
        },
        "id": "L-9dn4npCso-",
        "outputId": "bbb7814d-fb99-4bb1-e1ac-5feb9deef1f6"
      },
      "execution_count": 23,
      "outputs": [
        {
          "output_type": "stream",
          "name": "stdout",
          "text": [
            "Found segment:  [-2, -1]\n",
            "Found segment:  [1, 2]\n"
          ]
        }
      ]
    },
    {
      "cell_type": "code",
      "source": [
        "import numpy as np\n",
        "import matplotlib.pyplot as plt\n",
        "\n",
        "# Визначення функції\n",
        "def f(x):\n",
        "    return 6*x**4 + 4*x**3 - x**2 - x - 10\n",
        "\n",
        "# Генерація значень x\n",
        "x = np.linspace(-3, 3, 100)\n",
        "\n",
        "# Генерація значень y\n",
        "y = f(x)\n",
        "\n",
        "# Побудова графіка\n",
        "plt.figure(figsize=(8, 6))\n",
        "plt.plot(x, y, label='6*x**4 + 4*x**3 - x**2 - x - 10', color='blue')\n",
        "plt.title('Графік функції 6*x**4 + 4*x**3 - x**2 - x - 10')\n",
        "plt.xlabel('x')\n",
        "plt.ylabel('f(x)')\n",
        "\n",
        "# Додавання осей з стрілками\n",
        "plt.axhline(0, color='black', linewidth=0.5)\n",
        "plt.axvline(0, color='black', linewidth=0.5)\n",
        "\n",
        "plt.text(2.05, -4, 'x', ha='center', va='center')\n",
        "plt.text(-0.3, 190, 'y', ha='center', va='center')\n",
        "\n",
        "plt.grid(True)\n",
        "plt.legend()\n",
        "plt.show()\n"
      ],
      "metadata": {
        "colab": {
          "base_uri": "https://localhost:8080/",
          "height": 564
        },
        "id": "7zUI3d1xZXar",
        "outputId": "8f39ced0-513c-4ceb-9913-38213665e573"
      },
      "execution_count": 24,
      "outputs": [
        {
          "output_type": "display_data",
          "data": {
            "text/plain": [
              "<Figure size 800x600 with 1 Axes>"
            ],
            "image/png": "[encoded data removed]"
          },
          "metadata": {}
        }
      ]
    },
    {
      "cell_type": "markdown",
      "source": [],
      "metadata": {
        "id": "cBMj_LGHQI0w"
      }
    },
    {
      "cell_type": "markdown",
      "source": [
        "![зображення.png](data:image/png;base64,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)"
      ],
      "metadata": {
        "id": "eb9uwLLsZg_X"
      }
    },
    {
      "cell_type": "code",
      "source": [
        "#Лабораторна робота. Метод половинного ділення, хорд\n",
        "\n",
        "\n",
        "def rec(a, b, eps):  # метод половинного ділення\n",
        "    while (abs(a - b) > eps):\n",
        "        if f(a) * f((a + b) / 2) < 0:\n",
        "            b = (a + b) / 2\n",
        "        else:\n",
        "            a = (a + b) / 2\n",
        "        x = (a + b) / 2\n",
        "\n",
        "    print('x= ', round(x, 5), '  -   Half division method')\n"
      ],
      "metadata": {
        "id": "BgjK94O9Cfxe"
      },
      "execution_count": 25,
      "outputs": []
    },
    {
      "cell_type": "code",
      "source": [
        "def hord(a, b, eps):  # метод хорд\n",
        "    derivative_f = nd.Derivative(f, n=2)\n",
        "    if f(a) * derivative_f(a) > 0:\n",
        "        x0 = a\n",
        "        xi = b\n",
        "    else:\n",
        "        x0 = b\n",
        "        xi = a\n",
        "    xi_1 = xi - (xi - x0) * f(xi) / (f(xi) - f(x0))\n",
        "    while (abs(xi_1 - xi) > eps):\n",
        "        xi = xi_1\n",
        "        xi_1 = xi - (xi - x0) * f(xi) / (f(xi) - f(x0))\n",
        "    print('x= ', round(xi_1, 5), '  -   Chord method')\n"
      ],
      "metadata": {
        "id": "Sz_KWVf7D2tL"
      },
      "execution_count": 26,
      "outputs": []
    },
    {
      "cell_type": "code",
      "source": [
        "if __name__ == \"__main__\":\n",
        "    a1, b1 = -2, -1\n",
        "    a2, b2 = 1, 2\n",
        "    eps = 0.001\n",
        "    print(\"Розв'язки на відрізку [-2,-1]\")\n",
        "    rec(a1, b1, eps)\n",
        "    hord(a1, b1, eps)\n",
        "    print(\"\\n Розв'язки на відрізку [1,2]\")\n",
        "    rec(a2, b2, eps)\n",
        "    hord(a2, b2, eps)"
      ],
      "metadata": {
        "id": "upx7R4yoFZj_",
        "outputId": "0751cdf1-b196-4fe5-8152-8ed463eb0a52",
        "colab": {
          "base_uri": "https://localhost:8080/"
        }
      },
      "execution_count": 27,
      "outputs": [
        {
          "output_type": "stream",
          "name": "stdout",
          "text": [
            "Розв'язки на відрізку [-2,-1]\n",
            "x=  -1.36084   -   Half division method\n",
            "x=  -1.35997   -   Chord method\n",
            "\n",
            " Розв'язки на відрізку [1,2]\n",
            "x=  1.05615   -   Half division method\n",
            "x=  1.05427   -   Chord method\n"
          ]
        }
      ]
    },
    {
      "cell_type": "code",
      "source": [
        "#Лабораторна робота 3. Метод Ньютона (дотичних). Комбінований метод\n",
        "\n",
        "def nuton(a, b, eps, f):\n",
        "    df2 = nd.Derivative(f, n=2)(b)  # Отримуємо значення похідної другого порядку в точці b\n",
        "    if f(b) * df2 > 0:\n",
        "        xi = b\n",
        "    else:\n",
        "        xi = a\n",
        "    df = nd.Derivative(f, n=1)(xi)  # Отримуємо значення похідної першого порядку в точці xi\n",
        "    xi_1 = xi - f(xi) / df\n",
        "    while abs(xi_1 - xi) > eps:  # перевіряємо точність\n",
        "        xi = xi_1\n",
        "        xi_1 = xi - f(xi) / df\n",
        "    print('Метод Ньютона, x = ', xi_1.round(4))\n"
      ],
      "metadata": {
        "id": "uz6OF8g2C-vY"
      },
      "execution_count": null,
      "outputs": []
    },
    {
      "cell_type": "code",
      "source": [
        "def komb(a, b, eps, f):\n",
        "    df2 = nd.Derivative(f, n=2)(a)\n",
        "    if f(a) * df2 > 0:\n",
        "        a0 = a\n",
        "        b0 = b\n",
        "    else:\n",
        "        a0 = b\n",
        "        b0 = a\n",
        "    ai = a0\n",
        "    bi = b0\n",
        "    while abs(ai - bi) > eps:\n",
        "        ai_1 = ai - f(ai) * (bi - ai) / (f(bi) - f(ai))\n",
        "        bi_1 = bi - f(bi) / nd.Derivative(f, n=1)(bi)\n",
        "        ai = ai_1\n",
        "        bi = bi_1\n",
        "    x = (ai_1 + bi_1) / 2\n",
        "\n",
        "    print('Комбінований метод, x = ', x.round(4))\n"
      ],
      "metadata": {
        "id": "M2T4FA4ifyy_"
      },
      "execution_count": null,
      "outputs": []
    },
    {
      "cell_type": "code",
      "source": [
        "if __name__ == \"__main__\":\n",
        "    a1, b1 = -2, -1\n",
        "    a2, b2 = 1, 0\n",
        "    eps = 0.001\n",
        "\n",
        "    print(\"Розв'язання на відрізку [-2, -1]\")\n",
        "    nuton(a1, b1, eps, f)\n",
        "    komb(a1, b1, eps, f)\n",
        "    print(\"\\n Розв'язання на відрізку [0, 1]\")\n",
        "    nuton(a2, b2, eps, f)\n",
        "    komb(a2, b2, eps, f)"
      ],
      "metadata": {
        "colab": {
          "base_uri": "https://localhost:8080/",
          "height": 234
        },
        "id": "zrxTpvysf0zN",
        "outputId": "cbae63c0-724a-4542-b8a4-3d820917471e"
      },
      "execution_count": 22,
      "outputs": [
        {
          "output_type": "stream",
          "name": "stdout",
          "text": [
            "Розв'язання на відрізку [-2, -1]\n"
          ]
        },
        {
          "output_type": "error",
          "ename": "NameError",
          "evalue": "name 'nuton' is not defined",
          "traceback": [
            "\u001b[0;31m---------------------------------------------------------------------------\u001b[0m",
            "\u001b[0;31mNameError\u001b[0m                                 Traceback (most recent call last)",
            "\u001b[0;32m/tmp/ipython-input-868080150.py\u001b[0m in \u001b[0;36m<cell line: 0>\u001b[0;34m()\u001b[0m\n\u001b[1;32m      5\u001b[0m \u001b[0;34m\u001b[0m\u001b[0m\n\u001b[1;32m      6\u001b[0m     \u001b[0mprint\u001b[0m\u001b[0;34m(\u001b[0m\u001b[0;34m\"Розв'язання на відрізку [-2, -1]\"\u001b[0m\u001b[0;34m)\u001b[0m\u001b[0;34m\u001b[0m\u001b[0;34m\u001b[0m\u001b[0m\n\u001b[0;32m----> 7\u001b[0;31m     \u001b[0mnuton\u001b[0m\u001b[0;34m(\u001b[0m\u001b[0ma1\u001b[0m\u001b[0;34m,\u001b[0m \u001b[0mb1\u001b[0m\u001b[0;34m,\u001b[0m \u001b[0meps\u001b[0m\u001b[0;34m,\u001b[0m \u001b[0mf\u001b[0m\u001b[0;34m)\u001b[0m\u001b[0;34m\u001b[0m\u001b[0;34m\u001b[0m\u001b[0m\n\u001b[0m\u001b[1;32m      8\u001b[0m     \u001b[0mkomb\u001b[0m\u001b[0;34m(\u001b[0m\u001b[0ma1\u001b[0m\u001b[0;34m,\u001b[0m \u001b[0mb1\u001b[0m\u001b[0;34m,\u001b[0m \u001b[0meps\u001b[0m\u001b[0;34m,\u001b[0m \u001b[0mf\u001b[0m\u001b[0;34m)\u001b[0m\u001b[0;34m\u001b[0m\u001b[0;34m\u001b[0m\u001b[0m\n\u001b[1;32m      9\u001b[0m     \u001b[0mprint\u001b[0m\u001b[0;34m(\u001b[0m\u001b[0;34m\"\\n Розв'язання на відрізку [0, 1]\"\u001b[0m\u001b[0;34m)\u001b[0m\u001b[0;34m\u001b[0m\u001b[0;34m\u001b[0m\u001b[0m\n",
            "\u001b[0;31mNameError\u001b[0m: name 'nuton' is not defined"
          ]
        }
      ]
    }
  ]
}